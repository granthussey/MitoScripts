{
 "cells": [
  {
   "cell_type": "code",
   "execution_count": 3,
   "metadata": {},
   "outputs": [],
   "source": [
    "import pandas as pd\n",
    "import numpy as np\n",
    "import glob \n",
    "import igraph as gr"
   ]
  },
  {
   "cell_type": "code",
   "execution_count": 4,
   "metadata": {},
   "outputs": [],
   "source": [
    "data_dir = '/Users/granthussey/github/MitoScripts/MitoScripts/data'"
   ]
  },
  {
   "cell_type": "code",
   "execution_count": 5,
   "metadata": {},
   "outputs": [],
   "source": [
    "def remove_path(full_path):\n",
    "    \n",
    "    if full_path.find('/') == -1:\n",
    "        pass\n",
    "        \n",
    "    if full_path.find('/') != -1:\n",
    "        filename = full_path.split(\"/\")[-1]\n",
    "        \n",
    "    return(filename)"
   ]
  },
  {
   "cell_type": "code",
   "execution_count": 6,
   "metadata": {},
   "outputs": [],
   "source": [
    "def get_filename(path_or_filename_with_extension):\n",
    "    # This will fail if more than one . is in the file, such as \".tar.gz\"\n",
    "    \n",
    "    cur_filename_with_extension = remove_path(path_or_filename_with_extension)\n",
    "    \n",
    "    noExtension = cur_filename_with_extension.split(\".\")[0]\n",
    "    \n",
    "    return(noExtension)\n",
    "    "
   ]
  },
  {
   "cell_type": "code",
   "execution_count": 7,
   "metadata": {},
   "outputs": [],
   "source": [
    "gnet_filename_list = []\n",
    "gnet_path_list = []\n",
    "\n",
    "for ipath in glob.glob(data_dir + '/*.gnet'):\n",
    "    \n",
    "    gnet_path_list.append(ipath)\n",
    "    gnet_filename_list.append(get_filename(ipath))\n",
    "    "
   ]
  },
  {
   "cell_type": "code",
   "execution_count": 8,
   "metadata": {},
   "outputs": [],
   "source": [
    "mitograph_filename_list = []\n",
    "mitograph_path_list = []\n",
    "\n",
    "for ipath in glob.glob(data_dir + '/*.mitograph'):\n",
    "    \n",
    "    mitograph_path_list.append(ipath)\n",
    "    mitograph_filename_list.append(get_filename(ipath))\n",
    "    \n",
    "    "
   ]
  },
  {
   "cell_type": "code",
   "execution_count": 9,
   "metadata": {},
   "outputs": [],
   "source": [
    "gnet_dfs = {}\n",
    "total_nodes = {}\n",
    "\n",
    "for ignet_paths in gnet_path_list:\n",
    "    \n",
    "    cur_filename = get_filename(ignet_paths) \n",
    "        \n",
    "    gnet_dfs[cur_filename] = pd.read_csv(ignet_paths,sep='\\t').reset_index()\n",
    "\n",
    "    total_nodes[cur_filename] = int(gnet_dfs[cur_filename].columns[2])\n",
    "    \n",
    "    gnet_dfs[cur_filename] = gnet_dfs[cur_filename].rename(columns = {'level_0':'Source','level_1':'Target',str(total_nodes[cur_filename]):'Length'})\n",
    "    \n",
    "    "
   ]
  },
  {
   "cell_type": "code",
   "execution_count": 10,
   "metadata": {},
   "outputs": [
    {
     "data": {
      "text/html": [
       "<div>\n",
       "<style scoped>\n",
       "    .dataframe tbody tr th:only-of-type {\n",
       "        vertical-align: middle;\n",
       "    }\n",
       "\n",
       "    .dataframe tbody tr th {\n",
       "        vertical-align: top;\n",
       "    }\n",
       "\n",
       "    .dataframe thead th {\n",
       "        text-align: right;\n",
       "    }\n",
       "</style>\n",
       "<table border=\"1\" class=\"dataframe\">\n",
       "  <thead>\n",
       "    <tr style=\"text-align: right;\">\n",
       "      <th></th>\n",
       "      <th>Source</th>\n",
       "      <th>Target</th>\n",
       "      <th>Length</th>\n",
       "    </tr>\n",
       "  </thead>\n",
       "  <tbody>\n",
       "    <tr>\n",
       "      <th>0</th>\n",
       "      <td>828</td>\n",
       "      <td>719</td>\n",
       "      <td>2.02679</td>\n",
       "    </tr>\n",
       "    <tr>\n",
       "      <th>1</th>\n",
       "      <td>827</td>\n",
       "      <td>816</td>\n",
       "      <td>0.74861</td>\n",
       "    </tr>\n",
       "    <tr>\n",
       "      <th>2</th>\n",
       "      <td>826</td>\n",
       "      <td>807</td>\n",
       "      <td>2.18869</td>\n",
       "    </tr>\n",
       "    <tr>\n",
       "      <th>3</th>\n",
       "      <td>825</td>\n",
       "      <td>671</td>\n",
       "      <td>13.41408</td>\n",
       "    </tr>\n",
       "    <tr>\n",
       "      <th>4</th>\n",
       "      <td>824</td>\n",
       "      <td>713</td>\n",
       "      <td>2.29597</td>\n",
       "    </tr>\n",
       "    <tr>\n",
       "      <th>...</th>\n",
       "      <td>...</td>\n",
       "      <td>...</td>\n",
       "      <td>...</td>\n",
       "    </tr>\n",
       "    <tr>\n",
       "      <th>958</th>\n",
       "      <td>121</td>\n",
       "      <td>51</td>\n",
       "      <td>0.74271</td>\n",
       "    </tr>\n",
       "    <tr>\n",
       "      <th>959</th>\n",
       "      <td>73</td>\n",
       "      <td>50</td>\n",
       "      <td>1.69323</td>\n",
       "    </tr>\n",
       "    <tr>\n",
       "      <th>960</th>\n",
       "      <td>112</td>\n",
       "      <td>63</td>\n",
       "      <td>4.51232</td>\n",
       "    </tr>\n",
       "    <tr>\n",
       "      <th>961</th>\n",
       "      <td>88</td>\n",
       "      <td>149</td>\n",
       "      <td>3.27270</td>\n",
       "    </tr>\n",
       "    <tr>\n",
       "      <th>962</th>\n",
       "      <td>82</td>\n",
       "      <td>26</td>\n",
       "      <td>0.89984</td>\n",
       "    </tr>\n",
       "  </tbody>\n",
       "</table>\n",
       "<p>963 rows × 3 columns</p>\n",
       "</div>"
      ],
      "text/plain": [
       "     Source  Target    Length\n",
       "0       828     719   2.02679\n",
       "1       827     816   0.74861\n",
       "2       826     807   2.18869\n",
       "3       825     671  13.41408\n",
       "4       824     713   2.29597\n",
       "..      ...     ...       ...\n",
       "958     121      51   0.74271\n",
       "959      73      50   1.69323\n",
       "960     112      63   4.51232\n",
       "961      88     149   3.27270\n",
       "962      82      26   0.89984\n",
       "\n",
       "[963 rows x 3 columns]"
      ]
     },
     "execution_count": 10,
     "metadata": {},
     "output_type": "execute_result"
    }
   ],
   "source": [
    "df = gnet_dfs[gnet_filename_list[1]]\n",
    "df"
   ]
  },
  {
   "cell_type": "markdown",
   "metadata": {},
   "source": [
    "The original R code processes the raw data and \"summary\" data for each filename, then concatonates them.\n",
    "\n",
    "Instead, building on my code here, I will create it piecemeal, then make a giant Raw data matrix, then summarize it all."
   ]
  },
  {
   "cell_type": "code",
   "execution_count": 11,
   "metadata": {},
   "outputs": [],
   "source": [
    " # RawDataInst <- NULL\n",
    " # List <- decompose(G)\n",
    " # for (g in List) {\n",
    " #   RawDataInst <- rbind(RawDataInst, data.frame(FileName, vcount(g), ecount(g), sum(E(g)$Length)))\n",
    " # }"
   ]
  },
  {
   "cell_type": "code",
   "execution_count": 31,
   "metadata": {},
   "outputs": [
    {
     "data": {
      "text/plain": [
       "(963, 2)"
      ]
     },
     "execution_count": 31,
     "metadata": {},
     "output_type": "execute_result"
    }
   ],
   "source": [
    "edges = df.values[:,[0,1]]\n",
    "nVerts = edges.shape[0]\n"
   ]
  },
  {
   "cell_type": "code",
   "execution_count": 30,
   "metadata": {},
   "outputs": [
    {
     "ename": "AttributeError",
     "evalue": "'list' object has no attribute 'shape'",
     "output_type": "error",
     "traceback": [
      "\u001b[0;31m---------------------------------------------------------------------------\u001b[0m",
      "\u001b[0;31mAttributeError\u001b[0m                            Traceback (most recent call last)",
      "\u001b[0;32m<ipython-input-30-bedd838805cd>\u001b[0m in \u001b[0;36m<module>\u001b[0;34m\u001b[0m\n\u001b[1;32m      4\u001b[0m     \u001b[0medge_list\u001b[0m\u001b[0;34m.\u001b[0m\u001b[0mappend\u001b[0m\u001b[0;34m(\u001b[0m\u001b[0mcur_element\u001b[0m\u001b[0;34m)\u001b[0m\u001b[0;34m\u001b[0m\u001b[0;34m\u001b[0m\u001b[0m\n\u001b[1;32m      5\u001b[0m \u001b[0;34m\u001b[0m\u001b[0m\n\u001b[0;32m----> 6\u001b[0;31m \u001b[0medge_list\u001b[0m\u001b[0;34m.\u001b[0m\u001b[0mshape\u001b[0m\u001b[0;34m\u001b[0m\u001b[0;34m\u001b[0m\u001b[0m\n\u001b[0m",
      "\u001b[0;31mAttributeError\u001b[0m: 'list' object has no attribute 'shape'"
     ]
    }
   ],
   "source": [
    "edge_list = []\n",
    "for iedges in edges:\n",
    "    cur_element = [iedges[0], iedges[1]]\n",
    "    edge_list.append(cur_element)\n",
    "\n",
    "edge_list"
   ]
  },
  {
   "cell_type": "code",
   "execution_count": 32,
   "metadata": {},
   "outputs": [
    {
     "data": {
      "text/plain": [
       "<igraph.Graph at 0x113215318>"
      ]
     },
     "execution_count": 32,
     "metadata": {},
     "output_type": "execute_result"
    }
   ],
   "source": [
    "g = gr.Graph()\n",
    "g.add_vertices(nVerts)\n",
    "g.add_edges(edge_list)\n"
   ]
  },
  {
   "cell_type": "code",
   "execution_count": null,
   "metadata": {},
   "outputs": [],
   "source": [
    "col = ['Source','Target','Length']\n",
    "cur_raw_data = pd.DataFrame(columns=col)\n",
    "\n",
    "test = gr.decompose()\n",
    "\n",
    "\n",
    "for key in gnet_dfs:\n",
    "    \n",
    "    cur_data = \n",
    "    \n",
    "    test = test.append()"
   ]
  },
  {
   "cell_type": "code",
   "execution_count": null,
   "metadata": {},
   "outputs": [],
   "source": []
  }
 ],
 "metadata": {
  "kernelspec": {
   "display_name": "Python 3",
   "language": "python",
   "name": "python3"
  },
  "language_info": {
   "codemirror_mode": {
    "name": "ipython",
    "version": 3
   },
   "file_extension": ".py",
   "mimetype": "text/x-python",
   "name": "python",
   "nbconvert_exporter": "python",
   "pygments_lexer": "ipython3",
   "version": "3.7.3"
  }
 },
 "nbformat": 4,
 "nbformat_minor": 2
}
